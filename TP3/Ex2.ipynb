{
 "cells": [
  {
   "cell_type": "markdown",
   "id": "20e884dc-7ec9-477c-a3be-ea6a9515f79f",
   "metadata": {
    "jupyter": {
     "outputs_hidden": false
    },
    "slideshow": {
     "slide_type": ""
    },
    "tags": []
   },
   "source": [
    "# Exercício 2 - Enunciado"
   ]
  },
  {
   "cell_type": "markdown",
   "id": "71a2da70-f45a-419f-bc33-898961d90751",
   "metadata": {
    "jupyter": {
     "outputs_hidden": false
    }
   },
   "source": [
    "Considere-se de novo o algoritmo estendido de Euclides apresentado no TP2  mas usando o tipo dos inteiros e um parâmetro $N>0$\n",
    "```\n",
    "    INPUT  a, b : Int\n",
    "    assume  a > 0 and b > 0 and a < N and b < N\n",
    "    r, r', s, s', t, t' = a, b, 1, 0, 0, 1\n",
    "    while r' != 0\n",
    "      q = r div r'\n",
    "      r, r', s, s', t, t' = r', r − q × r', s', s − q × s', t', t − q × t' \n",
    "    OUTPUT r, s, t\n",
    "```\n",
    "\n",
    "Este exercício é dirigido à prova de correção do algoritmo estendido de Euclides\n",
    "\n",
    "1. Construa a asserção lógica que representa a pós-condição do algoritmo. Note que a definição da função  $\\gcd$  é   $\\gcd(a,b)\\;\\equiv\\; \\min \\{\\,r > 0\\,|\\,\\exists\\,s,t\\,\\centerdot\\, r = a*s+b*t\\,\\}$ .\n",
    "2. Usando a metodologia do comando havoc para o ciclo, escreva o programa na linguagem dos comandos anotados (LPA). Codifique a pós-condição do algoritmo com um comando assert .\n",
    "3. Construa codificações do programa LPA através de transformadores de predicados: “weakest pre-condition” e “strongest post-condition”. \n",
    "4. Prove a correção  do programa LPA em ambas as codificações."
   ]
  },
  {
   "cell_type": "markdown",
   "id": "cc0412e8-ce3c-403e-baf8-e0d2c1d58399",
   "metadata": {
    "jupyter": {
     "outputs_hidden": false
    }
   },
   "source": [
    "# Exercício 2 - Solução"
   ]
  },
  {
   "cell_type": "markdown",
   "id": "4fe06ce9",
   "metadata": {},
   "source": [
    "```python\n",
    "assert r = gcd(a,b) and r_prime = 0 and gcd(a,b) = a * s + b * t\n",
    "```"
   ]
  },
  {
   "cell_type": "code",
   "execution_count": 1,
   "id": "f855030f-4cbf-4957-87e0-6cd217e7c059",
   "metadata": {},
   "outputs": [
    {
     "name": "stdout",
     "output_type": "stream",
     "text": [
      "> N: 10\n"
     ]
    }
   ],
   "source": [
    "from pysmt.shortcuts import *\n",
    "from pysmt.typing import *\n",
    "from random import randrange\n",
    "\n",
    "def prove(f):\n",
    "    with Solver(name=\"z3\") as s:\n",
    "        s.add_assertion(Not(f))\n",
    "        print(f.serialize())\n",
    "        if s.solve():\n",
    "            print(s.get_model())\n",
    "            print(\"Failed to prove.\")\n",
    "        else:\n",
    "            print(\"Proven.\")\n",
    "            \n",
    "def static_vars(**kwargs):\n",
    "    def decorate(func):\n",
    "        for k in kwargs:\n",
    "            setattr(func, k, kwargs[k])\n",
    "        return func\n",
    "    return decorate\n",
    "\n",
    "def inv(r, s, t, a, b, N, rP):\n",
    "    return And(LE(Int(0), rP),\n",
    "               Or(LE(rP, Int(a)),\n",
    "                  LE(rP, Int(b))\n",
    "                 ),\n",
    "               LT(Int(0), r), \n",
    "               LT(r,Int(N)), \n",
    "               Equals(r, Plus(Times(Int(a), s), Times(Int(b), t))))\n",
    "\n",
    "@static_vars(counter = 0)\n",
    "def contraexemplo(r, s, t, a, b, N):\n",
    "    contraexemplo.counter+=1;\n",
    "    r_prime = Symbol(\"r\"+str(contraexemplo.counter), INT)\n",
    "    s_prime = Symbol(\"s\"+str(contraexemplo.counter), INT)\n",
    "    t_prime = Symbol(\"t\"+str(contraexemplo.counter), INT)\n",
    "    return And(LT(Int(0), r_prime), LT(r_prime, r), inv(r_prime, s_prime, t_prime, a, b, N, Int(0)))\n",
    "\n",
    "N = int(input(\"> N: \"))\n",
    "a = int(randrange(1,N-1))\n",
    "b = int(randrange(1,N-1))\n",
    "\n",
    "a = 2\n",
    "b = 1"
   ]
  },
  {
   "cell_type": "markdown",
   "id": "3527589e",
   "metadata": {
    "jupyter": {
     "outputs_hidden": false
    }
   },
   "source": [
    "$$\n",
    "\\mathsf{Comando}\\mathbin{\\;::=\\;} \\mathit{var}\\gets \\mathit{exp}\\;|\\;\\mathsf{havoc}\\,\\mathit{var}\\;|\\;\\mathsf{assert}\\,\\varphi\\;|\\;\\mathsf{assume}\\,\\phi\n",
    "$$\n",
    "$$\n",
    "\\mathsf{Fluxo}\\mathbin{\\;::=\\;} \\mathsf{skip}\\;|\\;\\mathsf{Comando}\\,;\\,\\mathsf{Fluxo}\\;|\\;\\mathsf{Fluxo}\\,\\|\\,\\mathsf{Fluxo}\n",
    "$$"
   ]
  },
  {
   "cell_type": "markdown",
   "id": "fe77cf92",
   "metadata": {
    "jupyter": {
     "outputs_hidden": false
    }
   },
   "source": [
    "### Weakest pre-condition\n",
    "\n",
    "A denotação `[C]` associa a cada fluxo `C` um predicado que caracteriza a sua correcção em termos lógicos (a sua VC) segundo a técnica WPC, sendo calculada pelas seguintes regras.\n",
    "\n",
    "$\n",
    "\\begin{array}{l}\n",
    "[{\\sf skip}] = True \\\\\n",
    "[{\\sf assume}\\:\\phi] = True \\\\\n",
    "[{\\sf assert}\\:\\phi] = \\phi \\\\\n",
    "[ x = e ] = True \\\\\n",
    "[(C_1 || C_2)] = [C_1] \\wedge [C_2] \\\\\n",
    "\\\\\n",
    "[{\\sf skip}\\, ; C] = [C] \\\\\n",
    "[{\\sf assume}\\:\\phi\\, ; C] = \\phi \\to [C] \\\\\n",
    "[{\\sf assert}\\:\\phi\\, ; C] = \\phi \\wedge [C] \\\\\n",
    "[ x = e \\, ; C] = [C][e/x] \\\\\n",
    "[(C_1 || C_2)\\, ; C] = [(C_1 ; C) || (C_2 ; C)] \\\\\n",
    "\\\\\n",
    "[{\\sf havoc}\\; x \\; ; C] = \\forall x. \\,[C]\n",
    "\\end{array}\n",
    "$\n"
   ]
  },
  {
   "cell_type": "markdown",
   "id": "e284c554",
   "metadata": {
    "jupyter": {
     "outputs_hidden": false
    }
   },
   "source": [
    "```\n",
    "    INPUT  a, b : Int\n",
    "    assume  a > 0 and b > 0 and a < N and b < N\n",
    "    r, r', s, s', t, t' = a, b, 1, 0, 0, 1\n",
    "    while r' != 0\n",
    "      q = r div r'\n",
    "      r, r', s, s', t, t' = r', r − q × r', s', s − q × s', t', t − q × t' \n",
    "    OUTPUT r, s, t\n",
    "```\n",
    "\n",
    "``` python\n",
    "\n",
    "Programa de fluxos.\n",
    "\n",
    "Sejam pre = a > 0 and b > 0 and a < N and b < N\n",
    "      inv = (r > 0) and (r < N) and (r = a*s + b*t)\n",
    "      pos = r == gcd(a,b) and r_prime == 0 and gcd(a,b) == a * s + b * t\n",
    "        \n",
    "assume pre;\n",
    "r = a; r' = b; s = 1; s' = 0; t = 0; t' = 1;\n",
    "assert inv;\n",
    "havoc r; havoc r'; havoc s; havoc s'; havoc t; havoc t';\n",
    "((assume r' != 0 and inv; q = r / r'; r = r'; r' = r - q * r'; s = s'; s' = s - q * s'; t = t'; t' = t - q * t'; assert inv; assume False) || assume(r' == 0) and inv)\n",
    "assert pos;\n",
    "```"
   ]
  },
  {
   "cell_type": "markdown",
   "id": "76fe619c",
   "metadata": {
    "jupyter": {
     "outputs_hidden": false
    }
   },
   "source": [
    "Denotação lógica com WPC.\n",
    "```python\n",
    "[\n",
    "assume a > 0 and b > 0 and a < N and b < N;\n",
    "r = a; r' = b; s = 1; s' = 0; t = 0; t' = 1;\n",
    "assert inv;\n",
    "havoc r; havoc r'; havoc s; havoc s'; havoc t; havoc t';\n",
    "((assume r' != 0 and inv; q = r / r'; r = r'; r' = r - q * r'; s = s'; s' = s - q * s'; t = t'; t' = t - q * t'; assert inv; assume False) || assume(r' == 0) and inv)\n",
    "assert r = gcd(a,b) and r_prime = 0 and gcd(a,b) = a * s + b * t\n",
    "]\n",
    "=\n",
    "pre -> [ assert inv; havoc r; havoc r'; havoc s; havoc s'; havoc t; havoc t'; ...; assert pos ] [a/r][b/r'][1/s][0/s'][0/t][1/t']\n",
    "=\n",
    "pre -> inv[a/r][b/r'][1/s][0/s'][0/t][1/t'][rP<-r][sP<-s][tP<-t] and (forall r,r',s,s',t,t'. [...; assert pos]) [a/r][b/r'][1/s][0/s'][0/t][1/t'][rP<-r][sP<-s][tP<-t]\n",
    "=\n",
    "pre -> inv[a/r][b/r'][1/s][0/s'][0/t][1/t'][rP<-r][sP<-s][tP<-t] and\n",
    "       (forall r,r',s,s',t,t'.\n",
    "           ( (r' != 0 and inv) -> inv[r/rP][s/sP][t/tP][(tP-q*t')/t'][t'/t][(sP-q*s')/s'][s'/s][(rP-q*r')/r'][r'/r][(r/r')/q]) )\n",
    "             and\n",
    "             ( (not(r' != 0) and inv) -> pos)\n",
    "       )\n",
    "```"
   ]
  },
  {
   "cell_type": "code",
   "execution_count": 2,
   "id": "6cf55352",
   "metadata": {
    "jupyter": {
     "outputs_hidden": false
    }
   },
   "outputs": [],
   "source": [
    "r = Symbol('r', INT)\n",
    "r_prime = Symbol('r_prime', INT)\n",
    "s = Symbol('s', INT)\n",
    "s_prime = Symbol('s_prime', INT)\n",
    "t = Symbol('t', INT)\n",
    "t_prime = Symbol('t_prime', INT)\n",
    "q = Symbol('q', INT)"
   ]
  },
  {
   "cell_type": "code",
   "execution_count": 3,
   "id": "6b7470bf",
   "metadata": {
    "jupyter": {
     "outputs_hidden": false
    }
   },
   "outputs": [
    {
     "name": "stdout",
     "output_type": "stream",
     "text": [
      "2 1\n",
      "((0 <= 1) & ((1 <= 2) | (1 <= 1)) & (0 < 2) & (2 < 10) & (2 = ((2 * 1) + (1 * 0))))\n",
      "Proven.\n",
      "(((r_prime = 0) & ((0 <= r_prime) & ((r_prime <= 2) | (r_prime <= 1)) & (0 < r) & (r < 10) & (r = ((2 * s) + (1 * t))))) -> (((0 <= r_prime) & ((r_prime <= 2) | (r_prime <= 1)) & (0 < r) & (r < 10) & (r = ((2 * s) + (1 * t)))) & (! ((0 < r1) & (r1 < r) & ((0 <= 0) & ((0 <= 2) | (0 <= 1)) & (0 < r1) & (r1 < 10) & (r1 = ((2 * s1) + (1 * t1)))))) & (r_prime = 0)))\n",
      "s1 := 0\n",
      "t1 := 1\n",
      "s := 0\n",
      "t := 2\n",
      "r1 := 1\n",
      "r := 2\n",
      "r_prime := 0\n",
      "Failed to prove.\n",
      "(((! (r_prime = 0)) & ((0 <= r_prime) & ((r_prime <= 2) | (r_prime <= 1)) & (0 < r) & (r < 10) & (r = ((2 * s) + (1 * t))))) -> ((0 <= (r - ((r / r_prime) * r_prime))) & (((r - ((r / r_prime) * r_prime)) <= 2) | ((r - ((r / r_prime) * r_prime)) <= 1)) & (0 < r_prime) & (r_prime < 10) & (r_prime = ((2 * s_prime) + (1 * t_prime)))))\n",
      "r_prime := 1\n",
      "r := 1\n",
      "s_prime := 0\n",
      "t_prime := 2\n",
      "s := 0\n",
      "t := 1\n",
      "Failed to prove.\n",
      "(((0 < 2) & (0 < 1) & (2 < 10) & (2 < 10)) -> (((0 <= 1) & ((1 <= 2) | (1 <= 1)) & (0 < 2) & (2 < 10) & (2 = ((2 * 1) + (1 * 0)))) & (forall r, r_prime, s, s_prime, t, t_prime, q . ((((! (r_prime = 0)) & ((0 <= r_prime) & ((r_prime <= 2) | (r_prime <= 1)) & (0 < r) & (r < 10) & (r = ((2 * s) + (1 * t))))) -> ((0 <= (r - ((r / r_prime) * r_prime))) & (((r - ((r / r_prime) * r_prime)) <= 2) | ((r - ((r / r_prime) * r_prime)) <= 1)) & (0 < r_prime) & (r_prime < 10) & (r_prime = ((2 * s_prime) + (1 * t_prime))))) & (((r_prime = 0) & ((0 <= r_prime) & ((r_prime <= 2) | (r_prime <= 1)) & (0 < r) & (r < 10) & (r = ((2 * s) + (1 * t))))) -> (((0 <= r_prime) & ((r_prime <= 2) | (r_prime <= 1)) & (0 < r) & (r < 10) & (r = ((2 * s) + (1 * t)))) & (! ((0 < r1) & (r1 < r) & ((0 <= 0) & ((0 <= 2) | (0 <= 1)) & (0 < r1) & (r1 < 10) & (r1 = ((2 * s1) + (1 * t1)))))) & (r_prime = 0)))))))\n"
     ]
    },
    {
     "ename": "SolverReturnedUnknownResultError",
     "evalue": "",
     "output_type": "error",
     "traceback": [
      "\u001b[1;31m---------------------------------------------------------------------------\u001b[0m",
      "\u001b[1;31mSolverReturnedUnknownResultError\u001b[0m          Traceback (most recent call last)",
      "Cell \u001b[1;32mIn[3], line 26\u001b[0m\n\u001b[0;32m     24\u001b[0m prove(util)\n\u001b[0;32m     25\u001b[0m prove(pres)\n\u001b[1;32m---> 26\u001b[0m \u001b[43mprove\u001b[49m\u001b[43m(\u001b[49m\u001b[43mvc\u001b[49m\u001b[43m)\u001b[49m\n",
      "Cell \u001b[1;32mIn[1], line 9\u001b[0m, in \u001b[0;36mprove\u001b[1;34m(f)\u001b[0m\n\u001b[0;32m      7\u001b[0m s\u001b[38;5;241m.\u001b[39madd_assertion(Not(f))\n\u001b[0;32m      8\u001b[0m \u001b[38;5;28mprint\u001b[39m(f\u001b[38;5;241m.\u001b[39mserialize())\n\u001b[1;32m----> 9\u001b[0m \u001b[38;5;28;01mif\u001b[39;00m \u001b[43ms\u001b[49m\u001b[38;5;241;43m.\u001b[39;49m\u001b[43msolve\u001b[49m\u001b[43m(\u001b[49m\u001b[43m)\u001b[49m:\n\u001b[0;32m     10\u001b[0m     \u001b[38;5;28mprint\u001b[39m(s\u001b[38;5;241m.\u001b[39mget_model())\n\u001b[0;32m     11\u001b[0m     \u001b[38;5;28mprint\u001b[39m(\u001b[38;5;124m\"\u001b[39m\u001b[38;5;124mFailed to prove.\u001b[39m\u001b[38;5;124m\"\u001b[39m)\n",
      "File \u001b[1;32m~\\anaconda3\\envs\\logica\\lib\\site-packages\\pysmt\\solvers\\solver.py:359\u001b[0m, in \u001b[0;36mIncrementalTrackingSolver.solve\u001b[1;34m(self, assumptions)\u001b[0m\n\u001b[0;32m    357\u001b[0m \u001b[38;5;28;01mdef\u001b[39;00m \u001b[38;5;21msolve\u001b[39m(\u001b[38;5;28mself\u001b[39m, assumptions\u001b[38;5;241m=\u001b[39m\u001b[38;5;28;01mNone\u001b[39;00m):\n\u001b[0;32m    358\u001b[0m     \u001b[38;5;28;01mtry\u001b[39;00m:\n\u001b[1;32m--> 359\u001b[0m         res \u001b[38;5;241m=\u001b[39m \u001b[38;5;28;43mself\u001b[39;49m\u001b[38;5;241;43m.\u001b[39;49m\u001b[43m_solve\u001b[49m\u001b[43m(\u001b[49m\u001b[43massumptions\u001b[49m\u001b[38;5;241;43m=\u001b[39;49m\u001b[43massumptions\u001b[49m\u001b[43m)\u001b[49m\n\u001b[0;32m    360\u001b[0m         \u001b[38;5;28mself\u001b[39m\u001b[38;5;241m.\u001b[39m_last_result \u001b[38;5;241m=\u001b[39m res\n\u001b[0;32m    361\u001b[0m         \u001b[38;5;28;01mreturn\u001b[39;00m res\n",
      "File \u001b[1;32m~\\anaconda3\\envs\\logica\\lib\\site-packages\\pysmt\\decorators.py:64\u001b[0m, in \u001b[0;36mclear_pending_pop.<locals>.clear_pending_pop_wrap\u001b[1;34m(self, *args, **kwargs)\u001b[0m\n\u001b[0;32m     62\u001b[0m     \u001b[38;5;28mself\u001b[39m\u001b[38;5;241m.\u001b[39mpending_pop \u001b[38;5;241m=\u001b[39m \u001b[38;5;28;01mFalse\u001b[39;00m\n\u001b[0;32m     63\u001b[0m     \u001b[38;5;28mself\u001b[39m\u001b[38;5;241m.\u001b[39mpop()\n\u001b[1;32m---> 64\u001b[0m \u001b[38;5;28;01mreturn\u001b[39;00m f(\u001b[38;5;28mself\u001b[39m, \u001b[38;5;241m*\u001b[39margs, \u001b[38;5;241m*\u001b[39m\u001b[38;5;241m*\u001b[39mkwargs)\n",
      "File \u001b[1;32m~\\anaconda3\\envs\\logica\\lib\\site-packages\\pysmt\\solvers\\z3.py:218\u001b[0m, in \u001b[0;36mZ3Solver._solve\u001b[1;34m(self, assumptions)\u001b[0m\n\u001b[0;32m    216\u001b[0m \u001b[38;5;28;01massert\u001b[39;00m sres \u001b[38;5;129;01min\u001b[39;00m [\u001b[38;5;124m'\u001b[39m\u001b[38;5;124munknown\u001b[39m\u001b[38;5;124m'\u001b[39m, \u001b[38;5;124m'\u001b[39m\u001b[38;5;124msat\u001b[39m\u001b[38;5;124m'\u001b[39m, \u001b[38;5;124m'\u001b[39m\u001b[38;5;124munsat\u001b[39m\u001b[38;5;124m'\u001b[39m]\n\u001b[0;32m    217\u001b[0m \u001b[38;5;28;01mif\u001b[39;00m sres \u001b[38;5;241m==\u001b[39m \u001b[38;5;124m'\u001b[39m\u001b[38;5;124munknown\u001b[39m\u001b[38;5;124m'\u001b[39m:\n\u001b[1;32m--> 218\u001b[0m     \u001b[38;5;28;01mraise\u001b[39;00m SolverReturnedUnknownResultError\n\u001b[0;32m    219\u001b[0m \u001b[38;5;28;01mreturn\u001b[39;00m (sres \u001b[38;5;241m==\u001b[39m \u001b[38;5;124m'\u001b[39m\u001b[38;5;124msat\u001b[39m\u001b[38;5;124m'\u001b[39m)\n",
      "\u001b[1;31mSolverReturnedUnknownResultError\u001b[0m: "
     ]
    }
   ],
   "source": [
    "pre = And(GT(Int(a), Int(0)), GT(Int(b), Int(0)), GT(Int(N), Int(a)), GT(Int(N), Int(a)))\n",
    "\n",
    "pos = And(inv(r, s, t, a, b, N, r_prime), Not(contraexemplo(r,s,t,a,b,N)), Equals(r_prime, Int(0)))\n",
    "\n",
    "ini = substitute(inv(r,s,t,a,b,N,r_prime), {r:Int(a), r_prime:Int(b), s:Int(1), s_prime:Int(0), t:Int(0), t_prime:Int(1)})\n",
    "\n",
    "pres = Implies(And(Not(Equals(r_prime, Int(0))), inv(r,s,t,a,b,N,r_prime)), \n",
    "               substitute(substitute(inv(r, s, t, a, b, N, r_prime), \n",
    "                                     {r: r_prime, \n",
    "                                      r_prime: Minus(r, Times(q, r_prime)), \n",
    "                                      s: s_prime,\n",
    "                                      s_prime: Minus(s, Times(q, s_prime)),\n",
    "                                      t: t_prime,\n",
    "                                      t_prime: Minus(t, Times(q, t_prime))}\n",
    "                                    ), \n",
    "                          {q: Div(r, r_prime)}\n",
    "                         )\n",
    "              )\n",
    "\n",
    "util = Implies(And(Equals(r_prime, Int(0)), inv(r, s, t, a, b, N, r_prime)), pos)\n",
    "vc = Implies(pre, And(ini, ForAll([r,r_prime,s,s_prime,t,t_prime, q], And(pres, util))))\n",
    "print(a, b)\n",
    "prove(ini)\n",
    "prove(util)\n",
    "prove(pres)\n",
    "prove(vc)"
   ]
  },
  {
   "cell_type": "markdown",
   "id": "14a75da4",
   "metadata": {
    "jupyter": {
     "outputs_hidden": false
    }
   },
   "source": [
    "### Strongest post-condition\n",
    "\n",
    "Na abordagem SPC a denotação de um fluxo com um comando de atribuição introduz um quantificador existencial, o que não é adequado à verificação com SMT solvers: \n",
    "$ \\quad [ C \\; ; x = e ] \\; =  \\; \\exists a. (x = e[a/x]) \\wedge [C][a/x] $\n",
    "\n",
    "Para lidar com este problema pode-se converter o programa original ao formato \"*single assignment*\" (SA).\n",
    "Num programa SA cada variável só pode ser usada depois de ser atribuida e só pode ser atribuída uma única vez.\n",
    "\n",
    "Um programa (onde variáveis são atribuídas mais do que uma vez) pode ser reescrito num programa SA criando \"clones\" distintos das variáveis de forma a que seja possível fazer uma atribuição única a cada instância.\n",
    "\n",
    "Neste caso, a denotação `[C]` associa a cada fluxo `C` um predicado que caracteriza a sua correcção em termos lógicos (a sua VC) segundo a técnica SPC, sendo calculada pelas seguintes regras.\n",
    "\n",
    "$\n",
    "\\begin{array}{l}\n",
    "[{\\sf skip}] = True \\\\\n",
    "[{\\sf assume}\\:\\phi] = \\phi \\\\\n",
    "[{\\sf assert}\\:\\phi] = \\phi \\\\\n",
    "[x = e ] = (x = e)\\\\\n",
    "[(C_1 || C_2)] = [C_1] \\vee [C_2] \\\\\n",
    "\\\\\n",
    "[C \\, ; {\\sf skip}\\;] = [C] \\\\\n",
    "[C \\, ;{\\sf assume}\\:\\phi] = [C] \\wedge \\phi \\\\\n",
    "[C \\, ;{\\sf assert}\\:\\phi] = [C] \\to \\phi \\\\\n",
    "[ C \\, ; x = e ] = [C] \\wedge (x = e)\\\\\n",
    "[C\\,; (C_1 || C_2)] = [(C ; C_1) || (C; C_2)] \\\\\n",
    "\\\\\n",
    "[S\\,;\\,\\mathsf{havoc}\\,\\upsilon]\\quad\\;\\;\\equiv\\quad \\exists\\,a\\,\\centerdot\\,[S][\\upsilon/a]\n",
    "\\end{array}\n",
    "$\n",
    "\n"
   ]
  },
  {
   "cell_type": "markdown",
   "id": "feb7009d",
   "metadata": {
    "jupyter": {
     "outputs_hidden": false
    }
   },
   "source": [
    "Denotação lógica com SPC\n",
    "```python\n",
    "[assume pre; r = a; r' = b; s = 1; s' = 0; t = 0; t' = 1; assert inv; havoc r; havoc r'; havoc s; havoc s'; havoc t; havoc t'; ((assume r' != 0 and inv; q = r / r'; r = r'; r' = r - q * r'; s = s'; s' = s - q * s'; t = t'; t' = t - q * t'; assert inv; assume False) || assume(r' == 0) and inv)\n",
    "assert pos;\n",
    "]\n",
    "= \n",
    "[assume pre; r = a; r' = b; s = 1; s' = 0; t = 0; t' = 1; assert inv; havoc r; havoc r'; havoc s; havoc s'; havoc t; havoc t'; ((assume r' != 0 and inv; q = r / r'; r = r'; r' = r - q * r'; s = s'; s' = s - q * s'; t = t'; t' = t - q * t'; assert inv; assume False) || assume(r' == 0) and inv)] -> pos\n",
    "=\n",
    "[(assume pre; r = a; r' = b; s = 1; s' = 0; t = 0; t' = 1; assert inv; havoc r; havoc r'; havoc s; havoc s'; havoc t; havoc t'; (assume r' != 0 and inv; q = r / r'; r = r'; r' = r - q * r'; s = s'; s' = s - q * s'; t = t'; t' = t - q * t'; assert inv; assume False)) || (assume pre; r = a; r' = b; s = 1; s' = 0; t = 0; t' = 1; assert inv; havoc r; havoc r'; havoc s; havoc s'; havoc t; havoc t'; assume(r' == 0) and inv)] -> pos\n",
    "=\n",
    "([(assume pre; r = a; r' = b; s = 1; s' = 0; t = 0; t' = 1; assert inv; havoc r; havoc r'; havoc s; havoc s'; havoc t; havoc t'; (assume r' != 0 and inv; q = r / r'; r = r'; r' = r - q * r'; s = s'; s' = s - q * s'; t = t'; t' = t - q * t'; assert inv; assume False))] or [(assume pre; r = a; r' = b; s = 1; s' = 0; t = 0; t' = 1; assert inv; havoc r; havoc r'; havoc s; havoc s'; havoc t; havoc t'; assume(r' == 0) and inv)]) -> pos\n",
    "=\n",
    "([assume pre; r = a; r' = b; s = 1; s' = 0; t = 0; t' = 1; assert inv; havoc r; havoc r'; havoc s; havoc s'; havoc t; havoc t'; (assume r' != 0 and inv; q = r / r'; r = r'; r' = r - q * r'; s = s'; s' = s - q * s'; t = t'; t' = t - q * t'; assert inv;) -> False] or [(assume pre; r = a; r' = b; s = 1; s' = 0; t = 0; t' = 1; assert inv; havoc r; havoc r'; havoc s; havoc s'; havoc t; havoc t'; assume(r' == 0) and inv)]) -> pos\n",
    "```"
   ]
  },
  {
   "cell_type": "code",
   "execution_count": null,
   "id": "fb3f5b25",
   "metadata": {
    "jupyter": {
     "outputs_hidden": false
    }
   },
   "outputs": [],
   "source": [
    "a = Symbol('a',INT)\n",
    "b = Symbol('b',INT)\n",
    "r = Symbol('r', INT)\n",
    "r_prime = Symbol('r_prime', INT)\n",
    "s = Symbol('s', INT)\n",
    "s_prime = Symbol('s_prime', INT)\n",
    "t = Symbol('t', INT)\n",
    "t_prime = Symbol('t_prime', INT)\n",
    "N = Symbol('N', INT)\n",
    "q = Symbol('q', INT)\n",
    "gcd = Symbol('gcd', FunctionType(INT,[INT,INT]))\n",
    "aux = Symbol('aux', INT)\n",
    "\n",
    "pre = And(GT(a, Int(0)), GT(b, Int(0)), GT(N, a), GT(N, b))\n",
    "\n",
    "pos = And(Equals(r, gcd(a, b)), Equals(r_prime, Int(0)), Exists([s, t], Equals(gcd(a, b), Plus(Times(a, s), Times(b, t)))))\n",
    "\n",
    "inv = And(GT(r, Int(0)), GT(N, r), Equals(r, Plus(Times(a, s), Times(b, t))))\n",
    "ini = substitute(inv, {r:a, r_prime:b, s:Int(1), s_prime:Int(0), t:Int(0), t_prime:Int(1)})\n",
    "pres = Implies(And(Not(Equals(r_prime, Int(0))), inv), substitute(substitute(substitute(substitute(substitute(substitute(substitute(substitute(substitute(substitute(inv, {tP:t}), {sP:s}), {rP:r}), {t_prime: Minus(tP, Times(q, t_prime))}), {t: t_prime}), {s_prime: Minus(sP, Times(q, s_prime))}), {s: s_prime}), {r_prime: Minus(rP, Times(q, r_prime))}), {r: r_prime}), {q: Div(r, r_prime)}))\n",
    "util = Implies(And(Equals(r_prime, Int(0)), inv), pos)\n",
    "vc = Implies(pre, And(ini, ForAll([r,r_prime,s,s_prime,t,t_prime,rP,sP,tP], And(pres, util))))\n",
    "\n",
    "prove(Implies(axioms, vc))"
   ]
  }
 ],
 "metadata": {
  "kernelspec": {
   "display_name": "Python 3 (ipykernel)",
   "language": "python",
   "name": "python3"
  },
  "language_info": {
   "codemirror_mode": {
    "name": "ipython",
    "version": 3
   },
   "file_extension": ".py",
   "mimetype": "text/x-python",
   "name": "python",
   "nbconvert_exporter": "python",
   "pygments_lexer": "ipython3",
   "version": "3.10.13"
  },
  "title": "Lógica Computacional - TP3 Exercício 1 - G01"
 },
 "nbformat": 4,
 "nbformat_minor": 5
}
