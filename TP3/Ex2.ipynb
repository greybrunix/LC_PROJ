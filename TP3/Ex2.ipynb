{
 "cells": [
  {
   "cell_type": "markdown",
   "id": "20e884dc-7ec9-477c-a3be-ea6a9515f79f",
   "metadata": {
    "slideshow": {
     "slide_type": ""
    },
    "tags": []
   },
   "source": [
    "# Exercício 2 - Enunciado"
   ]
  },
  {
   "cell_type": "markdown",
   "id": "71a2da70-f45a-419f-bc33-898961d90751",
   "metadata": {},
   "source": [
    "Considere-se de novo o algoritmo estendido de Euclides apresentado no TP2  mas usando o tipo dos inteiros e um parâmetro $N>0$\n",
    "```\n",
    "    INPUT  a, b : Int\n",
    "    assume  a > 0 and b > 0 and a < N and b < N\n",
    "    r, r', s, s', t, t' = a, b, 1, 0, 0, 1\n",
    "    while r' != 0\n",
    "      q = r div r'\n",
    "      r, r', s, s', t, t' = r', r − q × r', s', s − q × s', t', t − q × t' \n",
    "    OUTPUT r, s, t\n",
    "```\n",
    "\n",
    "Este exercício é dirigido à prova de correção do algoritmo estendido de Euclides\n",
    "\n",
    "1. Construa a asserção lógica que representa a pós-condição do algoritmo. Note que a definição da função  $\\gcd$  é   $\\gcd(a,b)\\;\\equiv\\; \\min \\{\\,r > 0\\,|\\,\\exists\\,s,t\\,\\centerdot\\, r = a*s+b*t\\,\\}$ .\n",
    "2. Usando a metodologia do comando havoc para o ciclo, escreva o programa na linguagem dos comandos anotados (LPA). Codifique a pós-condição do algoritmo com um comando assert .\n",
    "3. Construa codificações do programa LPA através de transformadores de predicados: “weakest pre-condition” e “strongest post-condition”. \n",
    "4. Prove a correção  do programa LPA em ambas as codificações."
   ]
  },
  {
   "cell_type": "markdown",
   "id": "cc0412e8-ce3c-403e-baf8-e0d2c1d58399",
   "metadata": {},
   "source": [
    "# Exercício 2 - Solução"
   ]
  },
  {
   "cell_type": "markdown",
   "id": "4fe06ce9",
   "metadata": {},
   "source": [
    "```python\n",
    "assert r = gcd(a,b) and r_prime = 0 and gcd(a,b) = a * s + b * t\n",
    "```"
   ]
  },
  {
   "cell_type": "code",
   "execution_count": 1,
   "id": "7f9ee983",
   "metadata": {},
   "outputs": [],
   "source": [
    "from pysmt.shortcuts import *\n",
    "from pysmt.typing import *\n",
    "\n",
    "def prove(f):\n",
    "    with Solver(name=\"z3\") as s:\n",
    "        s.add_assertion(Not(f))\n",
    "        if s.solve():\n",
    "            print(\"Failed to prove.\")\n",
    "        else:\n",
    "            print(\"Proved.\")"
   ]
  },
  {
   "cell_type": "markdown",
   "id": "0139dd60",
   "metadata": {},
   "source": [
    "# Grammar\n",
    "\n",
    "\"\"\"\n",
    "S := CODE $\n",
    "CODE := EXPRS | CYCLES | PRECOND | POSTCOND | IFS | SKIP | | \n",
    "CYCLE := while CONDS do CODE CODE\n",
    "IFS := if CONDS then CODE IF CODE\n",
    "IF := else CODE | \n",
    "PRECOND := assume CONDS CODE\n",
    "POSTCOND := assert CONDS CODE\n",
    "CONDS := id sinal id COND CODE\n",
    "COND := and CONDS | or CONDS | \n",
    "EXPRS := ATRIBS EXPR CODE\n",
    "ATRIBS := id ATRIB atrib\n",
    "ATRIB := virg id ATRIB | \n",
    "EXPRE := EXP | EXP , EXPRE\n",
    "EXP := TERM EXP_OPS\n",
    "EXP_OPS := op_a TERM EXP_OPS | \n",
    "TERM := FACTOR TERM_OPS\n",
    "TERM_OPS := op_m FACTOR TERM_OPS | \n",
    "FACTOR := id | int | lparen EXPR rparen\n",
    "SKIP := skip CODE\n",
    "\"\"\"\n",
    "\n",
    "# TOKENS\n",
    "\"\"\"\n",
    "op_a = [\"+\",\"-\"]\n",
    "op_m = [\"*\", \"div\"]\n",
    "id = r\"[a-zA-z]+['_]*[a-zA-z]*\"\n",
    "atrib = \":=\"\n",
    "int = r'\\d+'\n",
    "sinal = [\">=\", \">\", \"<\", \"<=\", \"=\", \"!=\"]\n",
    "lparen, rparen = \"(\", \")\"\n",
    "while = \"while\"\n",
    "if = \"if\"\n",
    "then = \"then\"\n",
    "do = \"do\"\n",
    "else = \"else\"\n",
    "skip = \"skip\"\n",
    "assume = \"assume\"\n",
    "assert = \"assert\"\n",
    "\"\"\"\n",
    "\n",
    "def tokenizer(str):\n",
    "    op_a = [r\"+\",r\"-\"]\n",
    "    op_m = [r\"*\", r\"div\"]\n",
    "    id = r\"[a-zA-z]+['_]*[a-zA-z]*\"\n",
    "    atrib = r\":=\"\n",
    "    int = r'\\d+'\n",
    "    sinal = [r\">=\", r\">\", r\"<\", r\"<=\", r\"=\", r\"!=\"]\n",
    "    lparen, rparen = r\"(\", r\")\"\n",
    "    while = r\"while\"\n",
    "    if = r\"if\"\n",
    "    then = r\"then\"\n",
    "    do = r\"do\"\n",
    "    else = r\"else\"\n",
    "    skip = r\"skip\"\n",
    "    assume = r\"assume\"\n",
    "    assert = r\"assert\"\n",
    "    if str in op_a:\n",
    "        return 0;\n",
    "    if str in op_m:\n",
    "        return 1;"
   ]
  },
  {
   "cell_type": "markdown",
   "id": "4f28db05",
   "metadata": {},
   "source": [
    "```\n",
    "    INPUT  a, b : Int\n",
    "    assume  a > 0 and b > 0 and a < N and b < N\n",
    "    r, r', s, s', t, t' = a, b, 1, 0, 0, 1\n",
    "    while r' != 0\n",
    "      q = r div r'\n",
    "      r, r', s, s', t, t' = r', r − q × r', s', s − q × s', t', t − q × t' \n",
    "    OUTPUT r, s, t\n",
    "```\n",
    "\n",
    "``` python\n",
    "\n",
    "Programa de fluxos.\n",
    "\n",
    "Sejam pre = a > 0 and b > 0 and a < N and b < N\n",
    "      inv = (r > 0) and (r < N) and (r = a*s + b*t)\n",
    "      pos = r == gcd(a,b) and r_prime == 0 and gcd(a,b) == a * s + b * t\n",
    "        \n",
    "assume pre;\n",
    "r = a; r' = b; s = 1; s' = 0; t = 0; t' = 1;\n",
    "assert inv;\n",
    "havoc r; havoc r'; havoc s; havoc s'; havoc t; havoc t';\n",
    "((assume r' != 0 and inv; q = r / r'; r = r'; r' = r - q * r'; s = s'; s' = s - q * s'; t = t'; t' = t - q * t'; assert inv; assume False) || assume(r' == 0) and inv)\n",
    "assert pos;\n",
    "```"
   ]
  },
  {
   "cell_type": "markdown",
   "id": "76fe619c",
   "metadata": {},
   "source": [
    "Denotação lógica com WPC.\n",
    "```python\n",
    "[\n",
    "assume a > 0 and b > 0 and a < N and b < N;\n",
    "r = a; r' = b; s = 1; s' = 0; t = 0; t' = 1;\n",
    "assert inv;\n",
    "havoc r; havoc r'; havoc s; havoc s'; havoc t; havoc t';\n",
    "((assume r' != 0 and inv; q = r / r'; r = r'; r' = r - q * r'; s = s'; s' = s - q * s'; t = t'; t' = t - q * t'; assert inv; assume False) || assume(r' == 0) and inv)\n",
    "assert r = gcd(a,b) and r_prime = 0 and gcd(a,b) = a * s + b * t\n",
    "]\n",
    "=\n",
    "pre -> [ assert inv; havoc r; havoc r'; havoc s; havoc s'; havoc t; havoc t'; ...; assert pos ] [a/r][b/r'][1/s][0/s'][0/t][1/t']\n",
    "=\n",
    "pre -> inv[a/r][b/r'][1/s][0/s'][0/t][1/t'] and (forall r,r',s,s',t,t'. [...; assert pos]) [a/r][b/r'][1/s][0/s'][0/t][1/t']\n",
    "=\n",
    "pre -> inv[a/r][b/r'][1/s][0/s'][0/t][1/t'] and\n",
    "       (forall r,r',s,s',t,t'.\n",
    "           ( (r' != 0 and inv) -> inv[(t-q*t')/t'][t'/t][(s-q*s')/s'][s'/s][(r-q*r')/r'][r'/r][(r/r')/q]) )\n",
    "             and\n",
    "             ( (not(r' != 0) and inv) -> pos)\n",
    "       )\n",
    "```\n",
    "\n",
    "Denotação lógica com SPC\n",
    "```python\n",
    "[assume pre; r = a; r' = b; s = 1; s' = 0; t = 0; t' = 1; assert inv; havoc r; havoc r'; havoc s; havoc s'; havoc t; havoc t'; ((assume r' != 0 and inv; q = r / r'; r = r'; r' = r - q * r'; s = s'; s' = s - q * s'; t = t'; t' = t - q * t'; assert inv; assume False) || assume(r' == 0) and inv)\n",
    "assert pos;\n",
    "]\n",
    "= \n",
    "[assume pre; r = a; r' = b; s = 1; s' = 0; t = 0; t' = 1; assert inv; havoc r; havoc r'; havoc s; havoc s'; havoc t; havoc t'; ((assume r' != 0 and inv; q = r / r'; r = r'; r' = r - q * r'; s = s'; s' = s - q * s'; t = t'; t' = t - q * t'; assert inv; assume False) || assume(r' == 0) and inv)] -> pos\n",
    "=\n",
    "[(assume pre; r = a; r' = b; s = 1; s' = 0; t = 0; t' = 1; assert inv; havoc r; havoc r'; havoc s; havoc s'; havoc t; havoc t'; (assume r' != 0 and inv; q = r / r'; r = r'; r' = r - q * r'; s = s'; s' = s - q * s'; t = t'; t' = t - q * t'; assert inv; assume False)) || (assume pre; r = a; r' = b; s = 1; s' = 0; t = 0; t' = 1; assert inv; havoc r; havoc r'; havoc s; havoc s'; havoc t; havoc t'; assume(r' == 0) and inv)] -> pos\n",
    "=\n",
    "([(assume pre; r = a; r' = b; s = 1; s' = 0; t = 0; t' = 1; assert inv; havoc r; havoc r'; havoc s; havoc s'; havoc t; havoc t'; (assume r' != 0 and inv; q = r / r'; r = r'; r' = r - q * r'; s = s'; s' = s - q * s'; t = t'; t' = t - q * t'; assert inv; assume False))] or [(assume pre; r = a; r' = b; s = 1; s' = 0; t = 0; t' = 1; assert inv; havoc r; havoc r'; havoc s; havoc s'; havoc t; havoc t'; assume(r' == 0) and inv)]) -> pos\n",
    "=\n",
    "([assume pre; r = a; r' = b; s = 1; s' = 0; t = 0; t' = 1; assert inv; havoc r; havoc r'; havoc s; havoc s'; havoc t; havoc t'; (assume r' != 0 and inv; q = r / r'; r = r'; r' = r - q * r'; s = s'; s' = s - q * s'; t = t'; t' = t - q * t'; assert inv;) -> False] or [(assume pre; r = a; r' = b; s = 1; s' = 0; t = 0; t' = 1; assert inv; havoc r; havoc r'; havoc s; havoc s'; havoc t; havoc t'; assume(r' == 0) and inv)]) -> pos\n",
    "```"
   ]
  },
  {
   "cell_type": "code",
   "execution_count": 2,
   "id": "6b7470bf",
   "metadata": {
    "scrolled": true
   },
   "outputs": [
    {
     "name": "stdout",
     "output_type": "stream",
     "text": [
      "Failed to prove.\n",
      "Failed to prove.\n"
     ]
    }
   ],
   "source": [
    "a = Symbol('a',INT)\n",
    "b = Symbol('b',INT)\n",
    "r = Symbol('r', INT)\n",
    "r_prime = Symbol('r_prime', INT)\n",
    "s = Symbol('s', INT)\n",
    "s_prime = Symbol('s_prime', INT)\n",
    "t = Symbol('t', INT)\n",
    "t_prime = Symbol('t_prime', INT)\n",
    "N = Symbol('N', INT)\n",
    "q = Symbol('q', INT)\n",
    "gcd = Symbol('gcd', FunctionType(INT,[INT,INT]))\n",
    "aux = Symbol('aux', INT)\n",
    "\n",
    "axioms = And(Equals(gcd(a, b),r), ForAll([aux], Implies(GT(r, aux), Not(Equals(aux, Plus(Times(a, s), Times(b, t)))))), Equals(r, Plus(Times(a, s), Times(b, t))))\n",
    "\n",
    "prove(Implies(axioms, Equals(gcd(Int(5), Int(3)), Int(1))))\n",
    "\n",
    "pre = And(GT(a, Int(0)), GT(b, Int(0)), GT(N, a), GT(N, b))\n",
    "\n",
    "pos = And(Equals(r, gcd(a, b)), Equals(r_prime, Int(0)), Exists([s, t], Equals(gcd(a, b), Plus(Times(a, s), Times(b, t)))))\n",
    "\n",
    "inv = And(GT(r, Int(0)), GT(N, r), Equals(r, Plus(Times(a, s), Times(b, t))))\n",
    "ini = substitute(inv, {r:a, r_prime:b, s:Int(1), s_prime:Int(0), t:Int(0), t_prime:Int(1)})\n",
    "pres = Implies(And(Not(Equals(r_prime, Int(0))), inv), substitute(substitute(substitute(substitute(substitute(substitute(substitute(substitute(substitute(substitute(inv, {tP:t}), {sP:s}), {rP:r}), {t_prime: Minus(tP, Times(q, t_prime))}), {t: t_prime}), {s_prime: Minus(sP, Times(q, s_prime))}), {s: s_prime}), {r_prime: Minus(rP, Times(q, r_prime))}), {r: r_prime}), {q: Div(r, r_prime)}))\n",
    "util = Implies(And(Equals(r_prime, Int(0)), inv), pos)\n",
    "vc = Implies(pre, And(ini, ForAll([r,r_prime,s,s_prime,t,t_prime,rP,sP,tP], And(pres, util))))\n",
    "\n",
    "prove(Implies(axioms, vc))"
   ]
  }
 ],
 "metadata": {
  "kernelspec": {
   "display_name": "Python 3 (ipykernel)",
   "language": "python",
   "name": "python3"
  },
  "language_info": {
   "codemirror_mode": {
    "name": "ipython",
    "version": 3
   },
   "file_extension": ".py",
   "mimetype": "text/x-python",
   "name": "python",
   "nbconvert_exporter": "python",
   "pygments_lexer": "ipython3",
   "version": "3.10.13"
  },
  "title": "Lógica Computacional - TP3 Exercício 1 - G01"
 },
 "nbformat": 4,
 "nbformat_minor": 5
}
